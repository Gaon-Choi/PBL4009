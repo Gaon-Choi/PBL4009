{
  "nbformat": 4,
  "nbformat_minor": 0,
  "metadata": {
    "colab": {
      "name": "LeNet_MNIST.ipynb",
      "provenance": [],
      "collapsed_sections": []
    },
    "kernelspec": {
      "name": "python3",
      "display_name": "Python 3"
    },
    "language_info": {
      "name": "python"
    },
    "accelerator": "GPU"
  },
  "cells": [
    {
      "cell_type": "code",
      "source": [
        "import numpy as np\n",
        "import torch\n",
        "from torchvision.datasets import mnist\n",
        "from torch.nn import CrossEntropyLoss\n",
        "from torch.optim import SGD\n",
        "from torch.utils.data import DataLoader\n",
        "from torchvision.transforms import ToTensor\n",
        "\n",
        "from torch.nn import Module\n",
        "from torch import nn\n",
        "\n",
        "\n",
        "class Lenet5(Module):\n",
        "    def __init__(self):\n",
        "        super(Lenet5, self).__init__()\n",
        "        self.conv1 = nn.Conv2d(1, 6, 5)\n",
        "        self.relu1 = nn.ReLU()\n",
        "        #subsampling size = 2\n",
        "        self.pool1 = nn.MaxPool2d(\" \")\n",
        "        self.conv2 = nn.Conv2d(\" \", 16, \" \") # Lenet-5 Uses 5x5 Kernel\n",
        "        self.relu2 = nn.ReLU()\n",
        "        self.pool2 = nn.MaxPool2d(\" \")\n",
        "        self.fc1 = nn.Linear(\" \", 120)\n",
        "        self.relu3 = nn.ReLU()\n",
        "        self.fc2 = nn.Linear(\" \", 84)\n",
        "        self.relu4 = nn.ReLU()\n",
        "        self.fc3 = nn.Linear(\" \", \" \")\n",
        "        self.relu5 = nn.ReLU()\n",
        "\n",
        "    def forward(self, x):\n",
        "        y = self.conv1(x)\n",
        "        y = self.relu1(y)\n",
        "        y = self.pool1(y)\n",
        "        y = self.conv2(y)\n",
        "        y = self.relu2(y)\n",
        "        y = self.pool2(y)\n",
        "        y = y.view(y.shape[0], -1)\n",
        "        y = self.fc1(y)\n",
        "        y = self.relu3(y)\n",
        "        y = self.fc2(y)\n",
        "        y = self.relu4(y)\n",
        "        y = self.fc3(y)\n",
        "        y = self.relu5(y)\n",
        "        return y"
      ],
      "metadata": {
        "id": "Ec0788DhBfMq"
      },
      "execution_count": 7,
      "outputs": []
    },
    {
      "cell_type": "code",
      "source": [
        "batch_size = 256\n",
        "train_dataset = mnist.MNIST(root='./train', download=True, train=True, transform=ToTensor())\n",
        "test_dataset = mnist.MNIST(root='./test', download=True, train=False, transform=ToTensor())\n",
        "train_loader = DataLoader(train_dataset, batch_size=batch_size)\n",
        "test_loader = DataLoader(test_dataset, batch_size=batch_size)\n",
        "model = Lenet5()\n",
        "sgd = SGD(model.parameters(), lr=1e-2, momentum = 0.0)\n",
        "loss_fn = CrossEntropyLoss()\n",
        "epoch = 8\n",
        "step_loss = []\n",
        "train_step = []\n",
        "\n",
        "for current_epoch in range(epoch):\n",
        "    model.train()\n",
        "    for idx, (train_x, train_label) in enumerate(train_loader):\n",
        "        sgd.zero_grad()\n",
        "        predict_y = model(train_x.float())\n",
        "        loss = loss_fn(predict_y, train_label.long())\n",
        "        if idx % 10 == 0:\n",
        "            print('idx: {}, loss: {}'.format(idx, loss.sum().item()))\n",
        "            step_loss.append(loss.sum().item())\n",
        "            train_step.append(idx + 230*(current_epoch))\n",
        "            #print(step_loss)\n",
        "            #print(train_step)\n",
        "        loss.backward()\n",
        "        sgd.step()\n",
        "\n",
        "    all_correct_num = 0\n",
        "    all_sample_num = 0\n",
        "    model.eval()\n",
        "    for idx, (test_x, test_label) in enumerate(test_loader):\n",
        "        predict_y = model(test_x.float()).detach()\n",
        "        predict_y = np.argmax(predict_y, axis=-1)\n",
        "        current_correct_num = predict_y == test_label\n",
        "        all_correct_num += np.sum(current_correct_num.numpy(), axis=-1)\n",
        "        all_sample_num += current_correct_num.shape[0]\n",
        "    acc = all_correct_num / all_sample_num\n",
        "    print('accuracy: {:.2f}'.format(acc))\n",
        "    torch.save(model, './mnist_{:.2f}.pth'.format(acc))"
      ],
      "metadata": {
        "colab": {
          "base_uri": "https://localhost:8080/"
        },
        "id": "3EtiUbI-BciE",
        "outputId": "1f2b65ad-7687-43ae-e296-3878e2416f99"
      },
      "execution_count": 20,
      "outputs": [
        {
          "output_type": "stream",
          "name": "stdout",
          "text": [
            "idx: 0, loss: 2.303069591522217\n",
            "idx: 10, loss: 2.302210807800293\n",
            "idx: 20, loss: 2.3039424419403076\n",
            "idx: 30, loss: 2.302713394165039\n",
            "idx: 40, loss: 2.3023931980133057\n",
            "idx: 50, loss: 2.302907943725586\n",
            "idx: 60, loss: 2.301645278930664\n",
            "idx: 70, loss: 2.303222417831421\n",
            "idx: 80, loss: 2.303032875061035\n",
            "idx: 90, loss: 2.3009443283081055\n",
            "idx: 100, loss: 2.299924612045288\n",
            "idx: 110, loss: 2.3010940551757812\n",
            "idx: 120, loss: 2.303436279296875\n",
            "idx: 130, loss: 2.296663522720337\n",
            "idx: 140, loss: 2.3010828495025635\n",
            "idx: 150, loss: 2.298919439315796\n",
            "idx: 160, loss: 2.3018016815185547\n",
            "idx: 170, loss: 2.2998247146606445\n",
            "idx: 180, loss: 2.2970407009124756\n",
            "idx: 190, loss: 2.3002898693084717\n",
            "idx: 200, loss: 2.2994465827941895\n",
            "idx: 210, loss: 2.2986018657684326\n",
            "idx: 220, loss: 2.2972450256347656\n",
            "idx: 230, loss: 2.297003984451294\n",
            "accuracy: 0.19\n"
          ]
        }
      ]
    },
    {
      "cell_type": "code",
      "source": [
        "# you can see the train_loss graph in this code.\n",
        "import matplotlib.pyplot as plt\n",
        "\n",
        "plt.plot(train_step, step_loss, label='Lenet-5')\n",
        "plt.xlabel('step')\n",
        "plt.ylabel('Loss')\n",
        "plt.legend()\n",
        "plt.show()"
      ],
      "metadata": {
        "colab": {
          "base_uri": "https://localhost:8080/",
          "height": 279
        },
        "id": "sFOlr25gJ1m5",
        "outputId": "ff50280e-d2ee-4a23-d612-381311187c89"
      },
      "execution_count": 13,
      "outputs": [
        {
          "output_type": "display_data",
          "data": {
            "text/plain": [
              "<Figure size 432x288 with 1 Axes>"
            ],
            "image/png": "[encoded data removed]"
          },
          "metadata": {
            "needs_background": "light"
          }
        }
      ]
    },
    {
      "cell_type": "code",
      "source": [
        "# You can see the Test data with this code\n",
        "import matplotlib.pyplot as plt\n",
        "\n",
        "figure = plt.figure(figsize=(8, 8))\n",
        "\n",
        "sample_idx = torch.randint(len(test_dataset), size=(1,)).item()\n",
        "img, label = test_dataset[sample_idx]\n",
        "\n",
        "plt.imshow(img.squeeze(), cmap=\"gray\")"
      ],
      "metadata": {
        "colab": {
          "base_uri": "https://localhost:8080/",
          "height": 501
        },
        "id": "yboEnMjQtiVv",
        "outputId": "3ad022c6-3c96-490f-ed77-d4204089bc41"
      },
      "execution_count": 16,
      "outputs": [
        {
          "output_type": "execute_result",
          "data": {
            "text/plain": [
              "<matplotlib.image.AxesImage at 0x7fd29a1a8810>"
            ]
          },
          "metadata": {},
          "execution_count": 16
        },
        {
          "output_type": "display_data",
          "data": {
            "text/plain": [
              "<Figure size 576x576 with 1 Axes>"
            ],
            "image/png": "[encoded data removed]"
          },
          "metadata": {
            "needs_background": "light"
          }
        }
      ]
    }
  ]
}